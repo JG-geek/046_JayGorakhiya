{
  "nbformat": 4,
  "nbformat_minor": 0,
  "metadata": {
    "colab": {
      "name": "lab4_1.ipynb",
      "provenance": []
    },
    "kernelspec": {
      "name": "python3",
      "display_name": "Python 3"
    },
    "language_info": {
      "name": "python"
    }
  },
  "cells": [
    {
      "cell_type": "markdown",
      "metadata": {
        "id": "XVx9wuBgXDIk"
      },
      "source": [
        "**Task-2**: Apply algorithm on digits dataset - One hot encoding of features and train test division 65% - 35%"
      ]
    },
    {
      "cell_type": "code",
      "metadata": {
        "id": "rfClZ5j6XBg6"
      },
      "source": [
        "from sklearn import datasets\n",
        "from sklearn.tree import DecisionTreeClassifier\n",
        "import pandas as pd\n",
        "import numpy as np"
      ],
      "execution_count": 1,
      "outputs": []
    },
    {
      "cell_type": "code",
      "metadata": {
        "colab": {
          "base_uri": "https://localhost:8080/"
        },
        "id": "XeiKDfZPXgox",
        "outputId": "00aa7bf5-8da4-4d77-8863-f3ac84556267"
      },
      "source": [
        "#Load dataset\n",
        "digits = datasets.load_digits()\n",
        "print(digits)"
      ],
      "execution_count": 2,
      "outputs": [
        {
          "output_type": "stream",
          "name": "stdout",
          "text": [
            "{'data': array([[ 0.,  0.,  5., ...,  0.,  0.,  0.],\n",
            "       [ 0.,  0.,  0., ..., 10.,  0.,  0.],\n",
            "       [ 0.,  0.,  0., ..., 16.,  9.,  0.],\n",
            "       ...,\n",
            "       [ 0.,  0.,  1., ...,  6.,  0.,  0.],\n",
            "       [ 0.,  0.,  2., ..., 12.,  0.,  0.],\n",
            "       [ 0.,  0., 10., ..., 12.,  1.,  0.]]), 'target': array([0, 1, 2, ..., 8, 9, 8]), 'target_names': array([0, 1, 2, 3, 4, 5, 6, 7, 8, 9]), 'images': array([[[ 0.,  0.,  5., ...,  1.,  0.,  0.],\n",
            "        [ 0.,  0., 13., ..., 15.,  5.,  0.],\n",
            "        [ 0.,  3., 15., ..., 11.,  8.,  0.],\n",
            "        ...,\n",
            "        [ 0.,  4., 11., ..., 12.,  7.,  0.],\n",
            "        [ 0.,  2., 14., ..., 12.,  0.,  0.],\n",
            "        [ 0.,  0.,  6., ...,  0.,  0.,  0.]],\n",
            "\n",
            "       [[ 0.,  0.,  0., ...,  5.,  0.,  0.],\n",
            "        [ 0.,  0.,  0., ...,  9.,  0.,  0.],\n",
            "        [ 0.,  0.,  3., ...,  6.,  0.,  0.],\n",
            "        ...,\n",
            "        [ 0.,  0.,  1., ...,  6.,  0.,  0.],\n",
            "        [ 0.,  0.,  1., ...,  6.,  0.,  0.],\n",
            "        [ 0.,  0.,  0., ..., 10.,  0.,  0.]],\n",
            "\n",
            "       [[ 0.,  0.,  0., ..., 12.,  0.,  0.],\n",
            "        [ 0.,  0.,  3., ..., 14.,  0.,  0.],\n",
            "        [ 0.,  0.,  8., ..., 16.,  0.,  0.],\n",
            "        ...,\n",
            "        [ 0.,  9., 16., ...,  0.,  0.,  0.],\n",
            "        [ 0.,  3., 13., ..., 11.,  5.,  0.],\n",
            "        [ 0.,  0.,  0., ..., 16.,  9.,  0.]],\n",
            "\n",
            "       ...,\n",
            "\n",
            "       [[ 0.,  0.,  1., ...,  1.,  0.,  0.],\n",
            "        [ 0.,  0., 13., ...,  2.,  1.,  0.],\n",
            "        [ 0.,  0., 16., ..., 16.,  5.,  0.],\n",
            "        ...,\n",
            "        [ 0.,  0., 16., ..., 15.,  0.,  0.],\n",
            "        [ 0.,  0., 15., ..., 16.,  0.,  0.],\n",
            "        [ 0.,  0.,  2., ...,  6.,  0.,  0.]],\n",
            "\n",
            "       [[ 0.,  0.,  2., ...,  0.,  0.,  0.],\n",
            "        [ 0.,  0., 14., ..., 15.,  1.,  0.],\n",
            "        [ 0.,  4., 16., ..., 16.,  7.,  0.],\n",
            "        ...,\n",
            "        [ 0.,  0.,  0., ..., 16.,  2.,  0.],\n",
            "        [ 0.,  0.,  4., ..., 16.,  2.,  0.],\n",
            "        [ 0.,  0.,  5., ..., 12.,  0.,  0.]],\n",
            "\n",
            "       [[ 0.,  0., 10., ...,  1.,  0.,  0.],\n",
            "        [ 0.,  2., 16., ...,  1.,  0.,  0.],\n",
            "        [ 0.,  0., 15., ..., 15.,  0.,  0.],\n",
            "        ...,\n",
            "        [ 0.,  4., 16., ..., 16.,  6.,  0.],\n",
            "        [ 0.,  8., 16., ..., 16.,  8.,  0.],\n",
            "        [ 0.,  1.,  8., ..., 12.,  1.,  0.]]]), 'DESCR': \".. _digits_dataset:\\n\\nOptical recognition of handwritten digits dataset\\n--------------------------------------------------\\n\\n**Data Set Characteristics:**\\n\\n    :Number of Instances: 5620\\n    :Number of Attributes: 64\\n    :Attribute Information: 8x8 image of integer pixels in the range 0..16.\\n    :Missing Attribute Values: None\\n    :Creator: E. Alpaydin (alpaydin '@' boun.edu.tr)\\n    :Date: July; 1998\\n\\nThis is a copy of the test set of the UCI ML hand-written digits datasets\\nhttps://archive.ics.uci.edu/ml/datasets/Optical+Recognition+of+Handwritten+Digits\\n\\nThe data set contains images of hand-written digits: 10 classes where\\neach class refers to a digit.\\n\\nPreprocessing programs made available by NIST were used to extract\\nnormalized bitmaps of handwritten digits from a preprinted form. From a\\ntotal of 43 people, 30 contributed to the training set and different 13\\nto the test set. 32x32 bitmaps are divided into nonoverlapping blocks of\\n4x4 and the number of on pixels are counted in each block. This generates\\nan input matrix of 8x8 where each element is an integer in the range\\n0..16. This reduces dimensionality and gives invariance to small\\ndistortions.\\n\\nFor info on NIST preprocessing routines, see M. D. Garris, J. L. Blue, G.\\nT. Candela, D. L. Dimmick, J. Geist, P. J. Grother, S. A. Janet, and C.\\nL. Wilson, NIST Form-Based Handprint Recognition System, NISTIR 5469,\\n1994.\\n\\n.. topic:: References\\n\\n  - C. Kaynak (1995) Methods of Combining Multiple Classifiers and Their\\n    Applications to Handwritten Digit Recognition, MSc Thesis, Institute of\\n    Graduate Studies in Science and Engineering, Bogazici University.\\n  - E. Alpaydin, C. Kaynak (1998) Cascading Classifiers, Kybernetika.\\n  - Ken Tang and Ponnuthurai N. Suganthan and Xi Yao and A. Kai Qin.\\n    Linear dimensionalityreduction using relevance weighted LDA. School of\\n    Electrical and Electronic Engineering Nanyang Technological University.\\n    2005.\\n  - Claudio Gentile. A New Approximate Maximal Margin Classification\\n    Algorithm. NIPS. 2000.\"}\n"
          ]
        }
      ]
    },
    {
      "cell_type": "code",
      "metadata": {
        "colab": {
          "base_uri": "https://localhost:8080/"
        },
        "id": "wvsBRWjoXnBU",
        "outputId": "5064d955-d06a-4452-c4b9-7fa9ff34508d"
      },
      "source": [
        "print(digits.data.shape)\n",
        "print(digits.target.shape)"
      ],
      "execution_count": 3,
      "outputs": [
        {
          "output_type": "stream",
          "name": "stdout",
          "text": [
            "(1797, 64)\n",
            "(1797,)\n"
          ]
        }
      ]
    },
    {
      "cell_type": "code",
      "metadata": {
        "id": "UIVJrbGoX1sL"
      },
      "source": [
        "#import the necessary module\n",
        "from sklearn.model_selection import train_test_split\n",
        "\n",
        "X=digits.data\n",
        "Y=digits.target\n",
        "#split data set into train and test sets\n",
        "X_train, X_test, y_train, y_test = train_test_split( \n",
        "    X, Y, test_size = 0.35, random_state = 46)"
      ],
      "execution_count": 4,
      "outputs": []
    },
    {
      "cell_type": "code",
      "metadata": {
        "colab": {
          "base_uri": "https://localhost:8080/"
        },
        "id": "4HtfLrJSX7IN",
        "outputId": "d3e0f43f-e170-4f75-e263-c6f2072b41f8"
      },
      "source": [
        "#Create a Decision Tree Classifier (using Gini)\n",
        "clf_gini = DecisionTreeClassifier(criterion = \"gini\",\n",
        "            random_state = 46,max_depth=7, min_samples_leaf=46)\n",
        "\n",
        "clf_gini.fit(X_train, y_train)"
      ],
      "execution_count": 7,
      "outputs": [
        {
          "output_type": "execute_result",
          "data": {
            "text/plain": [
              "DecisionTreeClassifier(ccp_alpha=0.0, class_weight=None, criterion='gini',\n",
              "                       max_depth=7, max_features=None, max_leaf_nodes=None,\n",
              "                       min_impurity_decrease=0.0, min_impurity_split=None,\n",
              "                       min_samples_leaf=46, min_samples_split=2,\n",
              "                       min_weight_fraction_leaf=0.0, presort='deprecated',\n",
              "                       random_state=46, splitter='best')"
            ]
          },
          "metadata": {},
          "execution_count": 7
        }
      ]
    },
    {
      "cell_type": "code",
      "metadata": {
        "colab": {
          "base_uri": "https://localhost:8080/"
        },
        "id": "a6ebVYCSYMuc",
        "outputId": "d417ecc5-fc89-481e-b936-4a39635bf4b9"
      },
      "source": [
        "# Predict the classes of test data\n",
        "y_pred = clf_gini.predict(X_test)\n",
        "print(\"Predicted values:\")\n",
        "print(y_pred)"
      ],
      "execution_count": 12,
      "outputs": [
        {
          "output_type": "stream",
          "name": "stdout",
          "text": [
            "Predicted values:\n",
            "[6 1 1 6 1 2 9 5 1 3 9 7 5 7 3 7 1 0 7 9 3 9 2 2 4 8 9 4 6 1 4 5 9 8 4 7 9\n",
            " 8 1 8 0 3 7 0 9 2 3 3 7 6 1 7 9 9 4 6 2 9 9 5 7 1 9 6 6 6 4 2 7 2 5 7 9 5\n",
            " 6 1 9 4 6 7 1 7 0 4 7 1 7 2 6 1 9 9 0 7 7 7 6 0 8 9 6 3 7 2 6 1 9 9 9 5 3\n",
            " 5 3 1 8 3 9 9 6 9 9 7 1 3 9 7 2 3 7 3 9 5 2 8 7 0 5 7 2 6 3 6 7 4 6 6 0 6\n",
            " 8 8 9 1 1 2 7 5 0 1 9 5 9 6 9 9 0 0 1 8 2 1 2 7 3 3 9 9 7 1 1 1 6 6 1 8 9\n",
            " 5 2 7 5 9 9 3 6 9 4 4 1 9 6 1 4 1 5 7 3 8 6 2 1 3 7 7 3 6 5 0 3 1 1 7 4 9\n",
            " 5 8 4 0 1 3 7 9 4 7 4 9 5 9 3 9 4 3 7 9 6 3 1 0 9 2 8 1 3 9 8 4 8 9 0 6 5\n",
            " 2 0 9 2 3 5 1 0 5 7 9 6 1 9 1 3 9 0 1 8 6 4 2 0 7 6 1 7 9 7 9 1 6 3 7 3 1\n",
            " 5 0 7 7 7 7 7 3 6 5 0 0 7 6 2 0 1 7 3 4 4 2 2 1 6 1 7 3 5 0 7 6 5 2 2 7 8\n",
            " 1 7 9 4 1 9 9 6 9 1 5 6 6 3 3 0 1 1 1 4 2 6 3 3 1 7 3 2 1 8 1 2 1 3 5 1 6\n",
            " 9 9 6 2 2 6 9 7 0 1 7 2 3 5 9 2 9 0 8 9 3 8 5 3 2 1 0 7 2 0 0 2 1 9 4 8 3\n",
            " 4 9 7 5 4 8 0 6 6 3 9 5 8 1 7 9 1 1 1 2 7 7 9 1 1 1 7 9 9 4 1 0 9 2 9 9 8\n",
            " 7 7 0 9 7 2 8 0 1 3 8 0 6 0 6 5 6 7 4 2 7 3 2 9 3 2 9 1 1 7 9 6 4 9 3 9 9\n",
            " 4 6 9 4 4 0 2 6 1 6 7 6 1 1 1 9 6 0 0 5 9 2 6 2 5 0 8 1 0 6 4 3 0 9 3 5 3\n",
            " 7 2 7 9 4 4 6 7 3 4 1 5 0 2 9 1 3 8 7 7 9 7 5 9 8 3 6 6 1 3 0 5 5 9 1 5 7\n",
            " 6 1 9 1 9 5 3 4 6 3 8 7 6 9 0 1 0 9 5 6 9 6 4 6 4 6 7 9 0 0 9 6 2 0 4 6 0\n",
            " 4 4 9 2 5 8 0 7 6 3 7 7 7 1 4 7 4 3 3 9 3 4 7 9 4 7 8 9 7 4 9 1 9 3 9 3 3]\n"
          ]
        }
      ]
    },
    {
      "cell_type": "code",
      "metadata": {
        "colab": {
          "base_uri": "https://localhost:8080/"
        },
        "id": "kkgVyTvOYWRB",
        "outputId": "0d942c1f-165d-4953-faad-9c486bd4a3ea"
      },
      "source": [
        "# Model Accuracy\n",
        "from sklearn import metrics\n",
        "print(\"Confusion Matrix: \",\n",
        "        metrics.confusion_matrix(y_test, y_pred))\n",
        "print (\"Accuracy : \",\n",
        "    metrics.accuracy_score(y_test,y_pred)*100)\n",
        "print(\"Report : \",\n",
        "    metrics.classification_report(y_test, y_pred))"
      ],
      "execution_count": 13,
      "outputs": [
        {
          "output_type": "stream",
          "name": "stdout",
          "text": [
            "Confusion Matrix:  [[42  0  0  0  0  0  0  0  0  2]\n",
            " [ 0 37  1  1  8  0  6  3  1  9]\n",
            " [ 1 20 37  5  1  0  5  1  2  1]\n",
            " [ 0  7  0 49  0  0  0  4  1  5]\n",
            " [ 4  3  1  0 36  0  8  9  1  0]\n",
            " [ 4  5  0  0  1 43  2  2  0 12]\n",
            " [ 0  3  0  0  0  0 49  0  0  0]\n",
            " [ 0  0  7  0  1  0  0 55  1  3]\n",
            " [ 0  8  2  5  0  0  0  4 26 12]\n",
            " [ 0  0  1  4  0  0  0  7  1 60]]\n",
            "Accuracy :  68.99841017488076\n",
            "Report :                precision    recall  f1-score   support\n",
            "\n",
            "           0       0.82      0.95      0.88        44\n",
            "           1       0.45      0.56      0.50        66\n",
            "           2       0.76      0.51      0.61        73\n",
            "           3       0.77      0.74      0.75        66\n",
            "           4       0.77      0.58      0.66        62\n",
            "           5       1.00      0.62      0.77        69\n",
            "           6       0.70      0.94      0.80        52\n",
            "           7       0.65      0.82      0.72        67\n",
            "           8       0.79      0.46      0.58        57\n",
            "           9       0.58      0.82      0.68        73\n",
            "\n",
            "    accuracy                           0.69       629\n",
            "   macro avg       0.73      0.70      0.70       629\n",
            "weighted avg       0.72      0.69      0.69       629\n",
            "\n"
          ]
        }
      ]
    }
  ]
}